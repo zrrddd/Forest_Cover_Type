{
 "cells": [
  {
   "cell_type": "code",
   "execution_count": 30,
   "metadata": {},
   "outputs": [],
   "source": [
    "import pandas as pd\n",
    "import numpy as np\n",
    "data = pd.read_csv('train.csv')"
   ]
  },
  {
   "cell_type": "code",
   "execution_count": 31,
   "metadata": {},
   "outputs": [],
   "source": [
    "X = data.drop(['Id', 'Cover_Type'], axis = 1)\n",
    "y = data['Cover_Type']"
   ]
  },
  {
   "cell_type": "code",
   "execution_count": 32,
   "metadata": {},
   "outputs": [],
   "source": [
    "def prepare_data(df):\n",
    "    # Drop the column with zero std\n",
    "    df = df.drop(['Soil_Type7','Soil_Type15'], axis = 1)   \n",
    "    # Categorical Features\n",
    "    df['soil_type38,39']=df['Soil_Type38']+df['Soil_Type39']\n",
    "    df['soil_38_Wilde_area_1']=df['Soil_Type38']+df['Wilderness_Area1']\n",
    "    df['soil_39_Wilde_area_1']=df['Soil_Type39']+df['Wilderness_Area1'] #到这步为止都没有问题\n",
    "    \n",
    "    # Numerical Features\n",
    "    \n",
    "    df['noon-9am'] = df['Hillshade_Noon'] - df['Hillshade_9am']\n",
    "    df['3pm-noon'] = df['Hillshade_3pm'] - df['Hillshade_Noon']\n",
    "    df['Distance_To_Hydrology'] = np.sqrt(df.Horizontal_Distance_To_Hydrology ** 2 \n",
    "                                            + df.Vertical_Distance_To_Hydrology ** 2) #下降了一丢丢但是还是0.74所以没问题\n",
    "    df['Ele_minus_VDtHyd'] = df['Elevation'] - df['Vertical_Distance_To_Hydrology']\n",
    "    df['Ele_plus_VDtHyd'] = df['Elevation'] + df['Vertical_Distance_To_Hydrology']\n",
    "    df['Hydro_plus_Fire'] = df['Horizontal_Distance_To_Hydrology'] + df['Horizontal_Distance_To_Fire_Points']\n",
    "    df['Hydro_minus_Fire'] = df['Horizontal_Distance_To_Hydrology'] -df['Horizontal_Distance_To_Fire_Points']\n",
    "    df['Hydro_plus_Road'] = df['Horizontal_Distance_To_Hydrology'] + df ['Horizontal_Distance_To_Roadways']\n",
    "    df['Hydro_minus_Road'] = df['Horizontal_Distance_To_Hydrology'] - df['Horizontal_Distance_To_Roadways']\n",
    "    df['Fire_plus_Road'] = df['Horizontal_Distance_To_Fire_Points'] + df['Horizontal_Distance_To_Roadways']\n",
    "    df['Fire_minus_Road'] = df['Horizontal_Distance_To_Fire_Points'] - df['Horizontal_Distance_To_Roadways']\n",
    "    \n",
    "    #到0.79了！！\n",
    "    \n",
    "#     #StandardScale all numeric columns\n",
    "#     numeric_columns = ['Elevation', 'Aspect', 'Slope', 'Horizontal_Distance_To_Hydrology',\n",
    "#                         'Vertical_Distance_To_Hydrology', 'Horizontal_Distance_To_Roadways', \n",
    "#                         'Hillshade_9am', 'Hillshade_Noon', 'Hillshade_3pm', 'Horizontal_Distance_To_Fire_Points',\n",
    "#                         'Distance_To_Hydrology','Ele_minus_VDtHyd', 'Ele_plus_VDtHyd', 'noon-9am', '3pm-noon',\n",
    "#                         'Hydro_plus_Fire','Hydro_minus_Fire','Hydro_plus_Road', 'Hydro_minus_Road', 'Fire_plus_Road', \n",
    "#                         'Fire_minus_Road']\n",
    "#     sd = StandardScaler()\n",
    "#     df[numeric_columns] = sd.fit_transform(df[numeric_columns])\n",
    "    return df"
   ]
  },
  {
   "cell_type": "code",
   "execution_count": 33,
   "metadata": {},
   "outputs": [],
   "source": [
    "X = prepare_data(X)"
   ]
  },
  {
   "cell_type": "code",
   "execution_count": 34,
   "metadata": {},
   "outputs": [],
   "source": [
    "from sklearn.ensemble import ExtraTreesClassifier, RandomForestClassifier, BaggingClassifier, VotingClassifier"
   ]
  },
  {
   "cell_type": "code",
   "execution_count": 35,
   "metadata": {},
   "outputs": [
    {
     "data": {
      "text/plain": [
       "VotingClassifier(estimators=[('ExtraTree',\n",
       "                              ExtraTreesClassifier(n_estimators=400)),\n",
       "                             ('RandomForest',\n",
       "                              RandomForestClassifier(n_estimators=400)),\n",
       "                             ('Bagging', BaggingClassifier())])"
      ]
     },
     "execution_count": 35,
     "metadata": {},
     "output_type": "execute_result"
    }
   ],
   "source": [
    "#initialize model\n",
    "ext_clf = ExtraTreesClassifier(n_estimators=400)\n",
    "rf_clf = RandomForestClassifier(n_estimators=400)\n",
    "bag_clf = BaggingClassifier()\n",
    "\n",
    "#gau_clf = gaussian_process.GaussianProcessClassifier()\n",
    "ests = [('ExtraTree', ext_clf), ('RandomForest', rf_clf), ('Bagging', bag_clf)]\n",
    "voting_clf = VotingClassifier(estimators=ests, voting='hard')\n",
    "\n",
    "#Train the model\n",
    "# rf_clf.fit(X, y)\n",
    "# ext_clf.fit(X, y)\n",
    "voting_clf.fit(X, y)"
   ]
  },
  {
   "cell_type": "code",
   "execution_count": 36,
   "metadata": {},
   "outputs": [
    {
     "data": {
      "text/html": [
       "<div>\n",
       "<style scoped>\n",
       "    .dataframe tbody tr th:only-of-type {\n",
       "        vertical-align: middle;\n",
       "    }\n",
       "\n",
       "    .dataframe tbody tr th {\n",
       "        vertical-align: top;\n",
       "    }\n",
       "\n",
       "    .dataframe thead th {\n",
       "        text-align: right;\n",
       "    }\n",
       "</style>\n",
       "<table border=\"1\" class=\"dataframe\">\n",
       "  <thead>\n",
       "    <tr style=\"text-align: right;\">\n",
       "      <th></th>\n",
       "      <th>Id</th>\n",
       "      <th>Cover_Type</th>\n",
       "    </tr>\n",
       "  </thead>\n",
       "  <tbody>\n",
       "    <tr>\n",
       "      <td>0</td>\n",
       "      <td>15121</td>\n",
       "      <td>1</td>\n",
       "    </tr>\n",
       "    <tr>\n",
       "      <td>1</td>\n",
       "      <td>15122</td>\n",
       "      <td>1</td>\n",
       "    </tr>\n",
       "    <tr>\n",
       "      <td>2</td>\n",
       "      <td>15123</td>\n",
       "      <td>1</td>\n",
       "    </tr>\n",
       "    <tr>\n",
       "      <td>3</td>\n",
       "      <td>15124</td>\n",
       "      <td>1</td>\n",
       "    </tr>\n",
       "    <tr>\n",
       "      <td>4</td>\n",
       "      <td>15125</td>\n",
       "      <td>1</td>\n",
       "    </tr>\n",
       "    <tr>\n",
       "      <td>...</td>\n",
       "      <td>...</td>\n",
       "      <td>...</td>\n",
       "    </tr>\n",
       "    <tr>\n",
       "      <td>565887</td>\n",
       "      <td>581008</td>\n",
       "      <td>3</td>\n",
       "    </tr>\n",
       "    <tr>\n",
       "      <td>565888</td>\n",
       "      <td>581009</td>\n",
       "      <td>3</td>\n",
       "    </tr>\n",
       "    <tr>\n",
       "      <td>565889</td>\n",
       "      <td>581010</td>\n",
       "      <td>3</td>\n",
       "    </tr>\n",
       "    <tr>\n",
       "      <td>565890</td>\n",
       "      <td>581011</td>\n",
       "      <td>3</td>\n",
       "    </tr>\n",
       "    <tr>\n",
       "      <td>565891</td>\n",
       "      <td>581012</td>\n",
       "      <td>3</td>\n",
       "    </tr>\n",
       "  </tbody>\n",
       "</table>\n",
       "<p>565892 rows × 2 columns</p>\n",
       "</div>"
      ],
      "text/plain": [
       "            Id  Cover_Type\n",
       "0        15121           1\n",
       "1        15122           1\n",
       "2        15123           1\n",
       "3        15124           1\n",
       "4        15125           1\n",
       "...        ...         ...\n",
       "565887  581008           3\n",
       "565888  581009           3\n",
       "565889  581010           3\n",
       "565890  581011           3\n",
       "565891  581012           3\n",
       "\n",
       "[565892 rows x 2 columns]"
      ]
     },
     "execution_count": 36,
     "metadata": {},
     "output_type": "execute_result"
    }
   ],
   "source": [
    "test_ = pd.read_csv('test.csv')\n",
    "test = test_.drop('Id', axis = 1)\n",
    "test_prepare = prepare_data(test)\n",
    "\n",
    "#Make prediction and save results\n",
    "predictions = voting_clf.predict(test_prepare)\n",
    "result = pd.DataFrame({'Id': test_['Id'], 'Cover_Type': predictions})\n",
    "result"
   ]
  },
  {
   "cell_type": "code",
   "execution_count": 37,
   "metadata": {},
   "outputs": [],
   "source": [
    "result.to_csv('result.csv',index = False)"
   ]
  },
  {
   "cell_type": "code",
   "execution_count": null,
   "metadata": {},
   "outputs": [],
   "source": []
  }
 ],
 "metadata": {
  "kernelspec": {
   "display_name": "Python 3",
   "language": "python",
   "name": "python3"
  },
  "language_info": {
   "codemirror_mode": {
    "name": "ipython",
    "version": 3
   },
   "file_extension": ".py",
   "mimetype": "text/x-python",
   "name": "python",
   "nbconvert_exporter": "python",
   "pygments_lexer": "ipython3",
   "version": "3.7.4"
  }
 },
 "nbformat": 4,
 "nbformat_minor": 2
}
